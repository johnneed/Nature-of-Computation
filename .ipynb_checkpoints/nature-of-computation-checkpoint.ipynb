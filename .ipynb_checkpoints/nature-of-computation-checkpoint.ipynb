{
 "cells": [
  {
   "cell_type": "code",
   "execution_count": 3,
   "metadata": {
    "collapsed": true
   },
   "outputs": [],
   "source": [
    "from bridgesOfKonigsberg import isSolvable\n",
    "\n",
    "## Bridges are an array of tuples idicating which locations the bridge links\n",
    "bridges = [\n",
    "    ('NorthBank', 'WestIsland'),\n",
    "    ('NorthBank', 'WestIsland'),\n",
    "    ('NorthBank', 'EastIsland'),\n",
    "    ('SouthBank', 'EastIsland'),\n",
    "    ('WestIsland', 'EastIsland'),\n",
    "    ('WestIsland', 'SouthBank'),\n",
    "    ('WestIsland', 'SouthBank')\n",
    "]\n"
   ]
  },
  {
   "cell_type": "code",
   "execution_count": 4,
   "metadata": {},
   "outputs": [
    {
     "data": {
      "text/plain": [
       "False"
      ]
     },
     "execution_count": 4,
     "metadata": {},
     "output_type": "execute_result"
    }
   ],
   "source": [
    "from bridgesOfKonigsberg import isSolvable\n",
    "isSolvable(bridges)\n",
    "\n",
    "isSolvable(bridges)"
   ]
  },
  {
   "cell_type": "code",
   "execution_count": 5,
   "metadata": {},
   "outputs": [],
   "source": [
    "euler = [\n",
    "    ('NorthBank', 'EastIsland'),\n",
    "    ('EastIsland', 'SouthBank'),\n",
    "    ('SouthBank', 'WestIsland'),\n",
    "    ('WestIsland', 'NorthBank')]\n"
   ]
  },
  {
   "cell_type": "code",
   "execution_count": 6,
   "metadata": {},
   "outputs": [
    {
     "data": {
      "text/plain": [
       "True"
      ]
     },
     "execution_count": 6,
     "metadata": {},
     "output_type": "execute_result"
    }
   ],
   "source": [
    "isSolvable(euler)"
   ]
  },
  {
   "cell_type": "code",
   "execution_count": 7,
   "metadata": {},
   "outputs": [
    {
     "data": {
      "text/plain": [
       "'no solution'"
      ]
     },
     "execution_count": 7,
     "metadata": {},
     "output_type": "execute_result"
    }
   ],
   "source": [
    "from bridgesOfKonigsberg import findSolution\n",
    "findSolution(bridges)\n"
   ]
  },
  {
   "cell_type": "code",
   "execution_count": 8,
   "metadata": {},
   "outputs": [
    {
     "data": {
      "text/plain": [
       "'solution exists'"
      ]
     },
     "execution_count": 8,
     "metadata": {},
     "output_type": "execute_result"
    }
   ],
   "source": [
    "findSolution(euler)"
   ]
  },
  {
   "cell_type": "code",
   "execution_count": null,
   "metadata": {},
   "outputs": [],
   "source": []
  }
 ],
 "metadata": {
  "kernelspec": {
   "display_name": "Python 3",
   "language": "python",
   "name": "python3"
  },
  "language_info": {
   "codemirror_mode": {
    "name": "ipython",
    "version": 3
   },
   "file_extension": ".py",
   "mimetype": "text/x-python",
   "name": "python",
   "nbconvert_exporter": "python",
   "pygments_lexer": "ipython3",
   "version": "3.6.2"
  }
 },
 "nbformat": 4,
 "nbformat_minor": 1
}
