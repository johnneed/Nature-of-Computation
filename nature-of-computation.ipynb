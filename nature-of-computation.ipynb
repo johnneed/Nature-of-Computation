{
 "cells": [
  {
   "cell_type": "markdown",
   "metadata": {},
   "source": []
  },
  {
   "cell_type": "code",
   "execution_count": 1,
   "metadata": {
    "collapsed": true
   },
   "outputs": [
    {
     "data": {
      "text/plain": [
       "False"
      ]
     },
     "execution_count": 1,
     "metadata": {},
     "output_type": "execute_result"
    }
   ],
   "source": [
    "from bridgesOfKonigsberg import is_solvable\n",
    "bridges = [\n",
    "    ('North Bank', 'West Island'),\n",
    "    ('North Bank', 'West Island'),\n",
    "    ('North Bank', 'East Island'),\n",
    "    ('South Bank', 'East Island'),\n",
    "    ('West Island', 'East Island'),\n",
    "    ('West Island', 'South Bank'),\n",
    "    ('West Island', 'South Bank')\n",
    "]\n",
    "is_solvable(bridges)"
   ]
  },
  {
   "cell_type": "code",
   "execution_count": 1,
   "metadata": {},
   "outputs": [
    {
     "data": {
      "text/plain": [
       "True"
      ]
     },
     "execution_count": 1,
     "metadata": {},
     "output_type": "execute_result"
    }
   ],
   "source": [
    "from bridgesOfKonigsberg import is_solvable\n",
    "eulerPath = [\n",
    "    ('North Bank', 'East Island'),\n",
    "    ('North Bank', 'East Island'),\n",
    "    ('East Island', 'West Island'),\n",
    "    ('South Bank', 'West Island'),\n",
    "    ('West Island', 'South Bank')]\n",
    "is_solvable(eulerPath)"
   ]
  },
  {
   "cell_type": "code",
   "execution_count": 7,
   "metadata": {},
   "outputs": [
    {
     "data": {
      "text/plain": [
       "'no solution'"
      ]
     },
     "execution_count": 7,
     "metadata": {},
     "output_type": "execute_result"
    }
   ],
   "source": [
    "from bridgesOfKonigsberg import find_solution\n",
    "bridges = [\n",
    "    ('North Bank', 'West Island'),\n",
    "    ('North Bank', 'West Island'),\n",
    "    ('North Bank', 'East Island'),\n",
    "    ('South Bank', 'East Island'),\n",
    "    ('West Island', 'East Island'),\n",
    "    ('West Island', 'South Bank'),\n",
    "    ('West Island', 'South Bank')\n",
    "]\n",
    "find_solution(bridges)"
   ]
  },
  {
   "cell_type": "code",
   "execution_count": 1,
   "metadata": {
    "collapsed": true
   },
   "outputs": [
    {
     "data": {
      "text/plain": [
       "'West Island --> South Bank --> West Island --> East Island --> North Bank --> East Island'"
      ]
     },
     "execution_count": 1,
     "metadata": {},
     "output_type": "execute_result"
    }
   ],
   "source": [
    "from bridgesOfKonigsberg import find_solution\n",
    "eulerPath = [\n",
    "    ('North Bank', 'East Island'),\n",
    "    ('North Bank', 'East Island'),\n",
    "    ('East Island', 'West Island'),\n",
    "    ('South Bank', 'West Island'),\n",
    "    ('West Island', 'South Bank')]\n",
    "find_solution(eulerPath)"
   ]
  },
  {
   "cell_type": "code",
   "execution_count": null,
   "metadata": {},
   "outputs": [],
   "source": []
  }
 ],
 "metadata": {
  "kernelspec": {
   "display_name": "Python 2",
   "language": "python",
   "name": "python2"
  },
  "language_info": {
   "codemirror_mode": {
    "name": "ipython",
    "version": 2
   },
   "file_extension": ".py",
   "mimetype": "text/x-python",
   "name": "python",
   "nbconvert_exporter": "python",
   "pygments_lexer": "ipython2",
   "version": "2.7.6"
  }
 },
 "nbformat": 4,
 "nbformat_minor": 0
}
