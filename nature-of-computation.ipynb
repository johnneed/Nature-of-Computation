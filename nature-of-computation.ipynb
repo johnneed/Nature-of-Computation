{
 "cells": [
  {
   "cell_type": "heading",
   "metadata": {},
   "level": 1,
   "source": [
    "Bridges of Kronigsberg"
   ]
  },
  {
   "cell_type": "code",
   "execution_count": 1,
   "metadata": {
    "collapsed": true
   },
   "outputs": [
    {
     "data": {
      "text/plain": [
       "False"
      ]
     },
     "execution_count": 1,
     "metadata": {},
     "output_type": "execute_result"
    }
   ],
   "source": [
    "from bridgesOfKonigsberg import is_solvable\n",
    "bridges = [\n",
    "    ('North Bank', 'West Island'),\n",
    "    ('North Bank', 'West Island'),\n",
    "    ('North Bank', 'East Island'),\n",
    "    ('South Bank', 'East Island'),\n",
    "    ('West Island', 'East Island'),\n",
    "    ('West Island', 'South Bank'),\n",
    "    ('West Island', 'South Bank')\n",
    "]\n",
    "is_solvable(bridges)"
   ]
  },
  {
   "cell_type": "code",
   "execution_count": 1,
   "metadata": {},
   "outputs": [
    {
     "data": {
      "text/plain": [
       "True"
      ]
     },
     "execution_count": 1,
     "metadata": {},
     "output_type": "execute_result"
    }
   ],
   "source": [
    "from bridgesOfKonigsberg import is_solvable\n",
    "eulerPath = [\n",
    "    ('North Bank', 'East Island'),\n",
    "    ('North Bank', 'East Island'),\n",
    "    ('East Island', 'West Island'),\n",
    "    ('South Bank', 'West Island'),\n",
    "    ('West Island', 'South Bank')]\n",
    "is_solvable(eulerPath)"
   ]
  },
  {
   "cell_type": "code",
   "execution_count": 7,
   "metadata": {},
   "outputs": [
    {
     "data": {
      "text/plain": [
       "'no solution'"
      ]
     },
     "execution_count": 7,
     "metadata": {},
     "output_type": "execute_result"
    }
   ],
   "source": [
    "from bridgesOfKonigsberg import find_solution\n",
    "bridges = [\n",
    "    ('North Bank', 'West Island'),\n",
    "    ('North Bank', 'West Island'),\n",
    "    ('North Bank', 'East Island'),\n",
    "    ('South Bank', 'East Island'),\n",
    "    ('West Island', 'East Island'),\n",
    "    ('West Island', 'South Bank'),\n",
    "    ('West Island', 'South Bank')\n",
    "]\n",
    "find_solution(bridges)"
   ]
  },
  {
   "cell_type": "code",
   "execution_count": 1,
   "metadata": {
    "collapsed": false
   },
   "outputs": [
    {
     "data": {
      "text/plain": [
       "'West Island --> South Bank --> West Island --> East Island --> North Bank --> East Island'"
      ]
     },
     "execution_count": 1,
     "metadata": {},
     "output_type": "execute_result"
    }
   ],
   "source": [
    "from bridgesOfKonigsberg import find_solution\n",
    "eulerPath = [\n",
    "    ('North Bank', 'East Island'),\n",
    "    ('North Bank', 'East Island'),\n",
    "    ('East Island', 'West Island'),\n",
    "    ('South Bank', 'West Island'),\n",
    "    ('West Island', 'South Bank')]\n",
    "find_solution(eulerPath)"
   ]
  },
  {
   "cell_type": "heading",
   "metadata": {},
   "level": 1,
   "source": [
    "Hamiltonian Icosarian Game"
   ]
  },
  {
   "cell_type": "code",
   "execution_count": 2,
   "metadata": {},
   "outputs": [
    {
     "data": {
      "text/plain": [
       "'J --> C --> B --> A --> E --> D --> L --> K --> O --> F --> G --> H --> I --> N --> M --> T --> S --> R --> Q --> P\\nJ --> C --> B --> A --> E --> D --> L --> K --> O --> F --> G --> H --> I --> N --> M --> T --> P --> Q --> R --> S\\nJ --> C --> B --> A --> E --> D --> L --> M --> T --> P --> Q --> R --> S --> K --> O --> F --> G --> H --> I --> N\\nJ --> C --> B --> A --> F --> G --> H --> I --> N --> M --> L --> D --> E --> K --> O --> P --> Q --> R --> S --> T\\nJ --> C --> B --> A --> F --> G --> H --> I --> N --> M --> L --> D --> E --> K --> O --> P --> T --> S --> R --> Q\\nJ --> C --> B --> A --> F --> G --> H --> I --> N --> E --> D --> L --> K --> O --> P --> Q --> R --> S --> T --> M\\nJ --> C --> B --> A --> F --> G --> H --> I --> N --> E --> D --> L --> M --> T --> S --> K --> O --> P --> Q --> R\\nJ --> C --> B --> A --> F --> G --> H --> I --> N --> E --> D --> L --> M --> T --> P --> Q --> R --> S --> K --> O\\nJ --> C --> B --> A --> F --> G --> H --> I --> N --> E --> K --> O --> P --> Q --> R --> S --> T --> M --> L --> D\\nJ --> C --> B --> A --> F --> G --> H --> I --> N --> O --> P --> Q --> R --> S --> T --> M --> L --> D --> E --> K\\nJ --> C --> B --> A --> F --> O --> P --> T --> S --> R --> Q --> G --> H --> I --> N --> M --> L --> D --> E --> K\\nJ --> C --> B --> H --> I --> N --> M --> T --> S --> R --> Q --> G --> F --> A --> E --> D --> L --> K --> O --> P\\nJ --> C --> B --> H --> I --> N --> M --> L --> D --> E --> K --> O --> P --> T --> S --> R --> Q --> G --> F --> A\\nJ --> C --> B --> H --> I --> N --> M --> L --> K --> O --> P --> T --> S --> R --> Q --> G --> F --> A --> E --> D\\nJ --> C --> B --> H --> I --> N --> O --> F --> G --> M --> T --> P --> Q --> R --> S --> K --> L --> D --> E --> A\\nJ --> C --> B --> H --> I --> N --> O --> P --> Q --> R --> S --> K --> L --> D --> E --> A --> F --> G --> M --> T\\nJ --> C --> B --> H --> G --> M --> T --> S --> K --> L --> D --> E --> A --> F --> O --> P --> Q --> R --> I --> N\\nJ --> C --> B --> H --> G --> F --> A --> E --> D --> L --> K --> O --> P --> Q --> R --> I --> N --> M --> T --> S\\nJ --> C --> B --> H --> G --> F --> A --> E --> D --> L --> M --> T --> S --> K --> O --> P --> Q --> R --> I --> N\\nJ --> C --> B --> H --> G --> F --> O --> P --> Q --> R --> I --> N --> M --> T --> S --> K --> L --> D --> E --> A\\nJ --> C --> D --> L --> M --> T --> S --> R --> Q --> G --> F --> A --> B --> H --> I --> N --> E --> K --> O --> P\\nJ --> C --> D --> L --> M --> T --> S --> R --> I --> N --> E --> K --> O --> P --> Q --> G --> H --> B --> A --> F\\nJ --> C --> D --> L --> M --> T --> S --> R --> I --> N --> E --> K --> O --> P --> Q --> G --> F --> A --> B --> H\\nJ --> C --> D --> L --> M --> T --> S --> K --> O --> P --> Q --> R --> I --> N --> E --> A --> B --> H --> G --> F\\nJ --> C --> D --> L --> M --> T --> S --> K --> O --> P --> Q --> R --> I --> N --> E --> A --> F --> G --> H --> B\\nJ --> C --> D --> L --> M --> T --> P --> Q --> R --> S --> K --> O --> F --> G --> H --> I --> N --> E --> A --> B\\nJ --> C --> D --> L --> M --> N --> E --> K --> O --> P --> T --> S --> R --> Q --> G --> F --> A --> B --> H --> I\\nJ --> C --> D --> E --> A --> B --> H --> I --> N --> M --> L --> K --> O --> P --> T --> S --> R --> Q --> G --> F\\nJ --> C --> D --> E --> A --> B --> H --> I --> N --> O --> F --> G --> M --> T --> P --> Q --> R --> S --> K --> L\\nJ --> C --> D --> E --> A --> B --> H --> G --> F --> O --> P --> Q --> R --> I --> N --> M --> T --> S --> K --> L\\nJ --> C --> D --> E --> K --> O --> P --> T --> S --> R --> Q --> G --> F --> A --> B --> H --> I --> N --> M --> L\\nJ --> C --> D --> E --> K --> L --> M --> T --> S --> R --> Q --> G --> F --> A --> B --> H --> I --> N --> O --> P\\nJ --> C --> D --> E --> K --> L --> M --> T --> S --> R --> I --> N --> O --> P --> Q --> G --> H --> B --> A --> F\\nJ --> C --> D --> E --> K --> L --> M --> T --> S --> R --> I --> N --> O --> P --> Q --> G --> F --> A --> B --> H\\nJ --> C --> D --> E --> K --> L --> M --> N --> O --> P --> T --> S --> R --> Q --> G --> F --> A --> B --> H --> I\\nJ --> K --> O --> F --> G --> H --> I --> N --> E --> A --> B --> C --> D --> L --> M --> T --> S --> R --> Q --> P\\nJ --> K --> O --> F --> G --> H --> I --> N --> E --> A --> B --> C --> D --> L --> M --> T --> P --> Q --> R --> S\\nJ --> K --> O --> P --> Q --> G --> H --> B --> C --> D --> L --> M --> T --> S --> R --> I --> N --> E --> A --> F\\nJ --> K --> O --> P --> Q --> R --> I --> N --> E --> A --> F --> G --> H --> B --> C --> D --> L --> M --> T --> S\\nJ --> K --> O --> P --> Q --> R --> S --> T --> M --> L --> D --> C --> B --> A --> F --> G --> H --> I --> N --> E\\nJ --> K --> O --> P --> Q --> R --> S --> T --> M --> L --> D --> C --> B --> H --> I --> N --> E --> A --> F --> G\\nJ --> K --> O --> P --> T --> S --> R --> Q --> G --> M --> L --> D --> C --> B --> H --> I --> N --> E --> A --> F\\nJ --> K --> O --> P --> T --> S --> R --> Q --> G --> F --> A --> E --> D --> C --> B --> H --> I --> N --> M --> L\\nJ --> K --> L --> D --> C --> B --> H --> I --> N --> E --> A --> F --> G --> M --> T --> S --> R --> Q --> P --> O\\nJ --> K --> L --> D --> C --> B --> H --> I --> N --> E --> A --> F --> O --> P --> Q --> G --> M --> T --> S --> R\\nJ --> K --> L --> D --> C --> B --> H --> I --> N --> E --> A --> F --> O --> P --> T --> S --> R --> Q --> G --> M\\nJ --> K --> L --> D --> C --> B --> H --> G --> M --> T --> S --> R --> I --> N --> E --> A --> F --> O --> P --> Q\\nJ --> K --> L --> M --> T --> S --> R --> Q --> P --> O --> N --> E --> D --> C --> B --> A --> F --> G --> H --> I\\nJ --> K --> L --> M --> T --> S --> R --> Q --> P --> O --> F --> G --> H --> I --> N --> E --> D --> C --> B --> A\\nJ --> K --> L --> M --> T --> S --> R --> Q --> P --> O --> F --> G --> H --> I --> N --> E --> A --> B --> C --> D\\nJ --> K --> L --> M --> T --> S --> R --> Q --> G --> H --> I --> N --> E --> D --> C --> B --> A --> F --> O --> P\\nJ --> K --> L --> M --> T --> S --> R --> Q --> G --> F --> A --> E --> D --> C --> B --> H --> I --> N --> O --> P\\nJ --> K --> L --> M --> T --> S --> R --> I --> N --> E --> D --> C --> B --> A --> F --> O --> P --> Q --> G --> H\\nJ --> K --> L --> M --> T --> S --> R --> I --> N --> E --> A --> F --> O --> P --> Q --> G --> H --> B --> C --> D\\nJ --> K --> L --> M --> T --> S --> R --> I --> N --> O --> P --> Q --> G --> H --> B --> C --> D --> E --> A --> F\\nJ --> K --> L --> M --> T --> S --> R --> I --> N --> O --> P --> Q --> G --> F --> A --> E --> D --> C --> B --> H\\nJ --> K --> L --> M --> N --> E --> D --> C --> B --> A --> F --> O --> P --> T --> S --> R --> Q --> G --> H --> I\\nJ --> K --> L --> M --> N --> O --> P --> T --> S --> R --> Q --> G --> F --> A --> E --> D --> C --> B --> H --> I\\nJ --> I --> H --> B --> A --> F --> G --> M --> T --> S --> R --> Q --> P --> O --> N --> E --> K --> L --> D --> C\\nJ --> I --> H --> B --> A --> F --> O --> P --> T --> S --> R --> Q --> G --> M --> N --> E --> K --> L --> D --> C\\nJ --> I --> H --> B --> C --> D --> L --> K --> O --> N --> E --> A --> F --> G --> M --> T --> S --> R --> Q --> P\\nJ --> I --> H --> B --> C --> D --> L --> K --> O --> N --> E --> A --> F --> G --> M --> T --> P --> Q --> R --> S\\nJ --> I --> H --> B --> C --> D --> L --> K --> O --> P --> Q --> R --> S --> T --> M --> N --> E --> A --> F --> G\\nJ --> I --> H --> B --> C --> D --> L --> K --> O --> P --> T --> S --> R --> Q --> G --> M --> N --> E --> A --> F\\nJ --> I --> H --> B --> C --> D --> L --> M --> T --> P --> Q --> R --> S --> K --> O --> N --> E --> A --> F --> G\\nJ --> I --> H --> B --> C --> D --> L --> M --> N --> E --> K --> O --> P --> T --> S --> R --> Q --> G --> F --> A\\nJ --> I --> H --> B --> C --> D --> L --> M --> N --> O --> P --> T --> S --> R --> Q --> G --> F --> A --> E --> K\\nJ --> I --> H --> B --> C --> D --> E --> K --> L --> M --> N --> O --> P --> T --> S --> R --> Q --> G --> F --> A\\nJ --> I --> H --> G --> M --> T --> S --> R --> Q --> P --> O --> N --> E --> K --> L --> D --> C --> B --> A --> F\\nJ --> I --> H --> G --> M --> T --> P --> Q --> R --> S --> K --> L --> D --> C --> B --> A --> F --> O --> N --> E\\nJ --> I --> H --> G --> M --> N --> E --> K --> L --> D --> C --> B --> A --> F --> O --> P --> Q --> R --> S --> T\\nJ --> I --> H --> G --> M --> N --> E --> K --> L --> D --> C --> B --> A --> F --> O --> P --> T --> S --> R --> Q\\nJ --> I --> H --> G --> F --> A --> B --> C --> D --> L --> K --> O --> P --> Q --> R --> S --> T --> M --> N --> E\\nJ --> I --> H --> G --> F --> A --> B --> C --> D --> L --> M --> T --> S --> R --> Q --> P --> O --> N --> E --> K\\nJ --> I --> H --> G --> F --> A --> B --> C --> D --> L --> M --> T --> P --> Q --> R --> S --> K --> O --> N --> E\\nJ --> I --> H --> G --> F --> A --> B --> C --> D --> L --> M --> N --> E --> K --> O --> P --> Q --> R --> S --> T\\nJ --> I --> H --> G --> F --> A --> B --> C --> D --> L --> M --> N --> E --> K --> O --> P --> T --> S --> R --> Q\\nJ --> I --> H --> G --> F --> A --> B --> C --> D --> E --> K --> L --> M --> T --> S --> R --> Q --> P --> O --> N\\nJ --> I --> H --> G --> F --> A --> B --> C --> D --> E --> K --> L --> M --> N --> O --> P --> Q --> R --> S --> T\\nJ --> I --> H --> G --> F --> A --> B --> C --> D --> E --> K --> L --> M --> N --> O --> P --> T --> S --> R --> Q\\nJ --> I --> H --> G --> F --> O --> N --> M --> T --> P --> Q --> R --> S --> K --> L --> D --> C --> B --> A --> E\\nJ --> I --> H --> G --> F --> O --> N --> M --> T --> P --> Q --> R --> S --> K --> L --> D --> E --> A --> B --> C\\nJ --> I --> H --> G --> F --> O --> N --> E --> A --> B --> C --> D --> L --> M --> T --> P --> Q --> R --> S --> K\\nJ --> I --> H --> G --> F --> O --> P --> Q --> R --> S --> T --> M --> N --> E --> A --> B --> C --> D --> L --> K\\nJ --> I --> H --> G --> F --> O --> P --> Q --> R --> S --> T --> M --> N --> E --> K --> L --> D --> C --> B --> A\\nJ --> I --> N --> M --> T --> S --> R --> Q --> P --> O --> F --> A --> E --> K --> L --> D --> C --> B --> H --> G\\nJ --> I --> N --> M --> T --> S --> R --> Q --> P --> O --> F --> G --> H --> B --> A --> E --> K --> L --> D --> C\\nJ --> I --> N --> M --> L --> D --> C --> B --> H --> G --> F --> A --> E --> K --> O --> P --> Q --> R --> S --> T\\nJ --> I --> N --> M --> L --> D --> C --> B --> H --> G --> F --> A --> E --> K --> O --> P --> T --> S --> R --> Q\\nJ --> I --> N --> M --> L --> K --> O --> P --> T --> S --> R --> Q --> G --> H --> B --> C --> D --> E --> A --> F\\nJ --> I --> N --> M --> L --> K --> O --> P --> T --> S --> R --> Q --> G --> F --> A --> E --> D --> C --> B --> H\\nJ --> I --> N --> E --> A --> B --> C --> D --> L --> M --> T --> P --> Q --> R --> S --> K --> O --> F --> G --> H\\nJ --> I --> N --> E --> A --> F --> G --> H --> B --> C --> D --> L --> K --> O --> P --> Q --> R --> S --> T --> M\\nJ --> I --> N --> E --> A --> F --> G --> H --> B --> C --> D --> L --> M --> T --> S --> K --> O --> P --> Q --> R\\nJ --> I --> N --> E --> A --> F --> G --> H --> B --> C --> D --> L --> M --> T --> P --> Q --> R --> S --> K --> O\\nJ --> I --> N --> E --> A --> F --> O --> P --> Q --> R --> S --> K --> L --> D --> C --> B --> H --> G --> M --> T\\nJ --> I --> N --> E --> K --> O --> P --> Q --> R --> S --> T --> M --> L --> D --> C --> B --> A --> F --> G --> H\\nJ --> I --> N --> E --> K --> O --> P --> Q --> R --> S --> T --> M --> L --> D --> C --> B --> H --> G --> F --> A\\nJ --> I --> N --> E --> K --> L --> D --> C --> B --> H --> G --> M --> T --> S --> R --> Q --> P --> O --> F --> A\\nJ --> I --> N --> O --> F --> A --> E --> D --> C --> B --> H --> G --> M --> T --> P --> Q --> R --> S --> K --> L\\nJ --> I --> N --> O --> F --> A --> E --> K --> L --> D --> C --> B --> H --> G --> M --> T --> S --> R --> Q --> P\\nJ --> I --> N --> O --> F --> A --> E --> K --> L --> D --> C --> B --> H --> G --> M --> T --> P --> Q --> R --> S\\nJ --> I --> N --> O --> P --> Q --> R --> S --> T --> M --> L --> D --> C --> B --> H --> G --> F --> A --> E --> K\\n'"
      ]
     },
     "execution_count": 2,
     "metadata": {},
     "output_type": "execute_result"
    }
   ],
   "source": [
    "from hamilton import find_hamiltonian_paths, format_hamiltonian_path\n",
    "\n",
    "game_board_graph = {\n",
    "    'A': ['B', 'E', 'F'],\n",
    "    'B': ['A', 'H', 'C'],\n",
    "    'C': ['J', 'B', 'D'],\n",
    "    'D': ['C', 'L', 'E'],\n",
    "    'E': ['D', 'A', 'K'],\n",
    "    'F': ['A', 'G', 'O'],\n",
    "    'G': ['M', 'H', 'F'],\n",
    "    'H': ['B', 'I', 'G'],\n",
    "    'I': ['H', 'J', 'N'],\n",
    "    'J': ['C', 'K', 'I'],\n",
    "    'K': ['O', 'J', 'L'],\n",
    "    'L': ['D', 'K', 'M'],\n",
    "    'M': ['T', 'L', 'N'],\n",
    "    'N': ['M', 'E', 'O'],\n",
    "    'O': ['N', 'F', 'P'],\n",
    "    'P': ['Q', 'T', 'O'],\n",
    "    'Q': ['P', 'G', 'R'],\n",
    "    'R': ['Q', 'I', 'S'],\n",
    "    'S': ['R', 'K', 'T'],\n",
    "    'T': ['S', 'M', 'P']\n",
    "}\n",
    "\n",
    "format_hamiltonian_path(find_hamiltonian_paths(game_board_graph , 'J'))\n"
   ]
  },
  {
   "cell_type": "markdown",
   "metadata": {},
   "source": [
    "![One Possible Solution to Hamilton's Icosarian Game](\"./assets/Hamiltonian_path.svg\")"
   ]
  },
  {
   "cell_type": "heading",
   "metadata": {},
   "level": 1,
   "source": [
    "Eculid's Greatest Common Denominator Algorithm"
   ]
  },
  {
   "cell_type": "code",
   "execution_count": 3,
   "metadata": {},
   "outputs": [
    {
     "data": {
      "text/plain": [
       "7"
      ]
     },
     "execution_count": 3,
     "metadata": {},
     "output_type": "execute_result"
    }
   ],
   "source": [
    "def gcd(a, b):\n",
    "    if b == 0:\n",
    "        return a\n",
    "    return gcd(b, a % b)\n",
    "\n",
    "gcd(7*101, 7*312)\n"
   ]
  }
 ],
 "metadata": {
  "kernelspec": {
   "display_name": "Python 2",
   "language": "python",
   "name": "python2"
  },
  "language_info": {
   "codemirror_mode": {
    "name": "ipython",
    "version": 2
   },
   "file_extension": ".py",
   "mimetype": "text/x-python",
   "name": "python",
   "nbconvert_exporter": "python",
   "pygments_lexer": "ipython2",
   "version": "2.7.6"
  }
 },
 "nbformat": 4,
 "nbformat_minor": 0
}
