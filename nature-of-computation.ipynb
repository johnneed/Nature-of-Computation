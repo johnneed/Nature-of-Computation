{
 "cells": [
  {
   "cell_type": "markdown",
   "metadata": {},
   "source": []
  },
  {
   "cell_type": "code",
   "execution_count": 1,
   "metadata": {
    "collapsed": true
   },
   "outputs": [
    {
     "data": {
      "text/plain": [
       "False"
      ]
     },
     "execution_count": 1,
     "metadata": {},
     "output_type": "execute_result"
    }
   ],
   "source": [
    "from bridgesOfKonigsberg import is_solvable\n",
    "bridges = [\n",
    "    ('North Bank', 'West Island'),\n",
    "    ('North Bank', 'West Island'),\n",
    "    ('North Bank', 'East Island'),\n",
    "    ('South Bank', 'East Island'),\n",
    "    ('West Island', 'East Island'),\n",
    "    ('West Island', 'South Bank'),\n",
    "    ('West Island', 'South Bank')\n",
    "]\n",
    "is_solvable(bridges)"
   ]
  },
  {
   "cell_type": "code",
   "execution_count": 1,
   "metadata": {},
   "outputs": [
    {
     "data": {
      "text/plain": [
       "True"
      ]
     },
     "execution_count": 1,
     "metadata": {},
     "output_type": "execute_result"
    }
   ],
   "source": [
    "from bridgesOfKonigsberg import is_solvable\n",
    "eulerPath = [\n",
    "    ('North Bank', 'East Island'),\n",
    "    ('North Bank', 'East Island'),\n",
    "    ('East Island', 'West Island'),\n",
    "    ('South Bank', 'West Island'),\n",
    "    ('West Island', 'South Bank')]\n",
    "is_solvable(eulerPath)"
   ]
  },
  {
   "cell_type": "code",
   "execution_count": 7,
   "metadata": {},
   "outputs": [
    {
     "data": {
      "text/plain": [
       "'no solution'"
      ]
     },
     "execution_count": 7,
     "metadata": {},
     "output_type": "execute_result"
    }
   ],
   "source": [
    "from bridgesOfKonigsberg import find_solution\n",
    "bridges = [\n",
    "    ('North Bank', 'West Island'),\n",
    "    ('North Bank', 'West Island'),\n",
    "    ('North Bank', 'East Island'),\n",
    "    ('South Bank', 'East Island'),\n",
    "    ('West Island', 'East Island'),\n",
    "    ('West Island', 'South Bank'),\n",
    "    ('West Island', 'South Bank')\n",
    "]\n",
    "find_solution(bridges)"
   ]
  },
  {
   "cell_type": "code",
   "execution_count": 1,
   "metadata": {
    "collapsed": true
   },
   "outputs": [
    {
     "data": {
      "text/plain": [
       "'West Island --> South Bank --> West Island --> East Island --> North Bank --> East Island'"
      ]
     },
     "execution_count": 1,
     "metadata": {},
     "output_type": "execute_result"
    }
   ],
   "source": [
    "from bridgesOfKonigsberg import find_solution\n",
    "eulerPath = [\n",
    "    ('North Bank', 'East Island'),\n",
    "    ('North Bank', 'East Island'),\n",
    "    ('East Island', 'West Island'),\n",
    "    ('South Bank', 'West Island'),\n",
    "    ('West Island', 'South Bank')]\n",
    "find_solution(eulerPath)"
   ]
  },
  {
   "cell_type": "code",
   "execution_count": 1,
   "metadata": {},
   "outputs": [
    {
     "data": {
      "text/plain": [
       "'K --> O --> P --> Q --> R --> S --> T --> M --> L --> D --> C --> J --> I --> N --> E --> A --> B --> H --> G --> F\\r\\nK --> O --> P --> Q --> R --> S --> T --> M --> L --> D --> C --> J --> I --> N --> E --> A --> F --> G --> H --> B\\r\\nK --> O --> P --> Q --> R --> S --> T --> M --> L --> D --> E --> A --> F --> G --> H --> B --> C --> J --> I --> N\\r\\nK --> O --> P --> T --> S --> R --> Q --> G --> H --> B --> C --> J --> I --> N --> M --> L --> D --> E --> A --> F\\r\\nK --> O --> P --> T --> S --> R --> Q --> G --> F --> A --> B --> H --> I --> J --> C --> D --> L --> M --> N --> E\\r\\nK --> J --> C --> B --> A --> E --> D --> L --> M --> T --> S --> R --> Q --> P --> O --> F --> G --> H --> I --> N\\r\\nK --> J --> C --> B --> A --> F --> G --> H --> I --> N --> E --> D --> L --> M --> T --> S --> R --> Q --> P --> O\\r\\nK --> J --> C --> B --> A --> F --> G --> H --> I --> N --> O --> P --> Q --> R --> S --> T --> M --> L --> D --> E\\r\\nK --> J --> C --> B --> A --> F --> O --> P --> Q --> G --> H --> I --> N --> E --> D --> L --> M --> T --> S --> R\\r\\nK --> J --> C --> B --> A --> F --> O --> P --> T --> S --> R --> Q --> G --> H --> I --> N --> M --> L --> D --> E\\r\\nK --> J --> C --> B --> A --> F --> O --> P --> T --> S --> R --> Q --> G --> H --> I --> N --> E --> D --> L --> M\\r\\nK --> J --> C --> B --> H --> I --> N --> M --> L --> D --> E --> A --> F --> O --> P --> T --> S --> R --> Q --> G\\r\\nK --> J --> C --> B --> H --> I --> N --> E --> A --> F --> O --> P --> T --> S --> R --> Q --> G --> M --> L --> D\\r\\nK --> J --> C --> B --> H --> I --> N --> O --> P --> Q --> G --> F --> A --> E --> D --> L --> M --> T --> S --> R\\r\\nK --> J --> C --> B --> H --> I --> N --> O --> P --> Q --> R --> S --> T --> M --> L --> D --> E --> A --> F --> G\\r\\nK --> J --> C --> B --> H --> I --> N --> O --> P --> T --> S --> R --> Q --> G --> M --> L --> D --> E --> A --> F\\r\\nK --> J --> C --> B --> H --> I --> N --> O --> P --> T --> S --> R --> Q --> G --> F --> A --> E --> D --> L --> M\\r\\nK --> J --> C --> B --> H --> G --> F --> A --> E --> D --> L --> M --> T --> S --> R --> I --> N --> O --> P --> Q\\r\\nK --> J --> C --> D --> L --> M --> T --> S --> R --> Q --> P --> O --> F --> G --> H --> I --> N --> E --> A --> B\\r\\nK --> J --> C --> D --> L --> M --> T --> S --> R --> I --> N --> E --> A --> B --> H --> G --> F --> O --> P --> Q\\r\\nK --> J --> C --> D --> L --> M --> T --> S --> R --> I --> N --> E --> A --> F --> O --> P --> Q --> G --> H --> B\\r\\nK --> J --> I --> H --> B --> C --> D --> L --> M --> T --> S --> R --> Q --> P --> O --> N --> E --> A --> F --> G\\r\\nK --> J --> I --> H --> B --> C --> D --> L --> M --> N --> E --> A --> F --> O --> P --> T --> S --> R --> Q --> G\\r\\nK --> J --> I --> H --> B --> C --> D --> L --> M --> N --> O --> P --> T --> S --> R --> Q --> G --> F --> A --> E\\r\\nK --> J --> I --> H --> G --> F --> A --> B --> C --> D --> L --> M --> T --> S --> R --> Q --> P --> O --> N --> E\\r\\nK --> J --> I --> H --> G --> F --> O --> N --> E --> A --> B --> C --> D --> L --> M --> T --> S --> R --> Q --> P\\r\\nK --> J --> I --> H --> G --> F --> O --> N --> E --> A --> B --> C --> D --> L --> M --> T --> P --> Q --> R --> S\\r\\nK --> J --> I --> H --> G --> F --> O --> P --> Q --> R --> S --> T --> M --> N --> E --> A --> B --> C --> D --> L\\r\\nK --> J --> I --> N --> M --> L --> D --> E --> A --> F --> O --> P --> T --> S --> R --> Q --> G --> H --> B --> C\\r\\nK --> J --> I --> N --> E --> A --> B --> H --> G --> F --> O --> P --> Q --> R --> S --> T --> M --> L --> D --> C\\r\\nK --> J --> I --> N --> E --> A --> B --> C --> D --> L --> M --> T --> S --> R --> Q --> P --> O --> F --> G --> H\\r\\nK --> J --> I --> N --> E --> A --> F --> G --> H --> B --> C --> D --> L --> M --> T --> S --> R --> Q --> P --> O\\r\\nK --> J --> I --> N --> E --> A --> F --> O --> P --> Q --> G --> H --> B --> C --> D --> L --> M --> T --> S --> R\\r\\nK --> J --> I --> N --> E --> A --> F --> O --> P --> Q --> R --> S --> T --> M --> L --> D --> C --> B --> H --> G\\r\\nK --> J --> I --> N --> E --> A --> F --> O --> P --> T --> S --> R --> Q --> G --> M --> L --> D --> C --> B --> H\\r\\nK --> J --> I --> N --> E --> A --> F --> O --> P --> T --> S --> R --> Q --> G --> H --> B --> C --> D --> L --> M\\r\\nK --> J --> I --> N --> O --> P --> Q --> R --> S --> T --> M --> L --> D --> C --> B --> H --> G --> F --> A --> E\\r\\nK --> J --> I --> N --> O --> P --> Q --> R --> S --> T --> M --> L --> D --> E --> A --> F --> G --> H --> B --> C\\r\\nK --> L --> D --> C --> J --> I --> H --> B --> A --> F --> G --> M --> T --> S --> R --> Q --> P --> O --> N --> E\\r\\nK --> L --> D --> C --> J --> I --> H --> B --> A --> F --> O --> P --> T --> S --> R --> Q --> G --> M --> N --> E\\r\\nK --> L --> D --> C --> J --> I --> H --> G --> F --> O --> P --> Q --> R --> S --> T --> M --> N --> E --> A --> B\\r\\nK --> L --> D --> C --> J --> I --> N --> M --> T --> S --> R --> Q --> P --> O --> F --> G --> H --> B --> A --> E\\r\\nK --> L --> D --> C --> J --> I --> N --> E --> A --> B --> H --> G --> M --> T --> S --> R --> Q --> P --> O --> F\\r\\nK --> L --> D --> C --> J --> I --> N --> E --> A --> B --> H --> G --> F --> O --> P --> Q --> R --> S --> T --> M\\r\\nK --> L --> D --> E --> A --> B --> C --> J --> I --> H --> G --> F --> O --> N --> M --> T --> S --> R --> Q --> P\\r\\nK --> L --> D --> E --> A --> B --> C --> J --> I --> H --> G --> F --> O --> N --> M --> T --> P --> Q --> R --> S\\r\\nK --> L --> D --> E --> A --> B --> C --> J --> I --> H --> G --> F --> O --> P --> Q --> R --> S --> T --> M --> N\\r\\nK --> L --> D --> E --> A --> B --> C --> J --> I --> N --> M --> T --> S --> R --> Q --> P --> O --> F --> G --> H\\r\\nK --> L --> D --> E --> A --> F --> G --> H --> B --> C --> J --> I --> N --> M --> T --> S --> R --> Q --> P --> O\\r\\nK --> L --> D --> E --> A --> F --> G --> H --> B --> C --> J --> I --> N --> O --> P --> Q --> R --> S --> T --> M\\r\\nK --> L --> D --> E --> A --> F --> O --> P --> Q --> G --> H --> B --> C --> J --> I --> N --> M --> T --> S --> R\\r\\nK --> L --> D --> E --> A --> F --> O --> P --> T --> S --> R --> Q --> G --> H --> B --> C --> J --> I --> N --> M\\r\\nK --> L --> M --> T --> S --> R --> Q --> P --> O --> N --> E --> D --> C --> J --> I --> H --> B --> A --> F --> G\\r\\nK --> L --> M --> T --> S --> R --> Q --> P --> O --> N --> E --> D --> C --> J --> I --> H --> G --> F --> A --> B\\r\\nK --> L --> M --> T --> S --> R --> Q --> P --> O --> N --> E --> D --> C --> B --> A --> F --> G --> H --> I --> J\\r\\nK --> L --> M --> T --> S --> R --> Q --> P --> O --> F --> G --> H --> B --> A --> E --> D --> C --> J --> I --> N\\r\\nK --> L --> M --> N --> E --> D --> C --> J --> I --> H --> B --> A --> F --> O --> P --> T --> S --> R --> Q --> G\\r\\nK --> L --> M --> N --> E --> D --> C --> B --> A --> F --> O --> P --> T --> S --> R --> Q --> G --> H --> I --> J\\r\\nK --> L --> M --> N --> O --> P --> T --> S --> R --> Q --> G --> F --> A --> B --> H --> I --> J --> C --> D --> E\\r\\nK --> L --> M --> N --> O --> P --> T --> S --> R --> Q --> G --> F --> A --> E --> D --> C --> J --> I --> H --> B\\r\\nK --> L --> M --> N --> O --> P --> T --> S --> R --> Q --> G --> F --> A --> E --> D --> C --> B --> H --> I --> J\\r\\n'"
      ]
     },
     "execution_count": 1,
     "metadata": {},
     "output_type": "execute_result"
    }
   ],
   "source": [
    "from hamilton import  format_hamiltonian_path, find_hamiltonian_paths\n",
    " \n",
    "icosarian_board = {\n",
    "    'A': ['B', 'E', 'F'],\n",
    "    'B': ['A', 'H', 'C'],\n",
    "    'C': ['J', 'B', 'D'],\n",
    "    'D': ['C', 'L', 'E'],\n",
    "    'E': ['D', 'A', 'K'],\n",
    "    'F': ['A', 'G', 'O'],\n",
    "    'G': ['M', 'H', 'F'],\n",
    "    'H': ['B', 'I', 'G'],\n",
    "    'I': ['H', 'J', 'N'],\n",
    "    'J': ['C', 'K', 'I'],\n",
    "    'K': ['O', 'J', 'L'],\n",
    "    'L': ['D', 'K', 'M'],\n",
    "    'M': ['T', 'L', 'N'],\n",
    "    'N': ['M', 'E', 'O'],\n",
    "    'O': ['N', 'F', 'P'],\n",
    "    'P': ['Q', 'T', 'O'],\n",
    "    'Q': ['P', 'G', 'R'],\n",
    "    'R': ['Q', 'I', 'S'],\n",
    "    'S': ['R', 'K', 'T'],\n",
    "    'T': ['S', 'M', 'P']\n",
    "}\n",
    "\n",
    "start_node = 'K'\n",
    "\n",
    "format_hamiltonian_path(find_hamiltonian_paths(icosarian_board, start_node))"
   ]
  },
  {
   "cell_type": "code",
   "execution_count": 1,
   "metadata": {},
   "outputs": [],
   "source": []
  },
  {
   "cell_type": "code",
   "execution_count": 1,
   "metadata": {},
   "outputs": [],
   "source": []
  },
  {
   "cell_type": "code",
   "execution_count": 1,
   "metadata": {},
   "outputs": [],
   "source": []
  },
  {
   "cell_type": "code",
   "execution_count": 1,
   "metadata": {},
   "outputs": [],
   "source": []
  },
  {
   "cell_type": "code",
   "execution_count": null,
   "metadata": {},
   "outputs": [],
   "source": []
  }
 ],
 "metadata": {
  "kernelspec": {
   "display_name": "Python 2",
   "language": "python",
   "name": "python2"
  },
  "language_info": {
   "codemirror_mode": {
    "name": "ipython",
    "version": 2
   },
   "file_extension": ".py",
   "mimetype": "text/x-python",
   "name": "python",
   "nbconvert_exporter": "python",
   "pygments_lexer": "ipython2",
   "version": "2.7.6"
  }
 },
 "nbformat": 4,
 "nbformat_minor": 0
}
